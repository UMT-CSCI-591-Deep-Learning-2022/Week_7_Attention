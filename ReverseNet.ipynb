{
  "cells": [
    {
      "cell_type": "markdown",
      "id": "84dfe4de",
      "metadata": {
        "id": "84dfe4de"
      },
      "source": [
        "# Week 7: ReverseNet\n",
        "### (A very silly but pedagogically useful attention network)\n",
        "\n",
        "Transformers are sequence-to-sequence models, primarily designed to operate on complex datasets in natural language processing, computer vision, or more exotic applications.  However, we can conceptualize much simpler sequence-to-sequence tasks.  For example, one very simple sequence-to-sequence task is to simply reverse the order of the input sequence.  This turns out to be a bit difficult for a variety of different architectures: first, we can presume that we'll have variable length sequences, and so a multilayer perceptron will not work for this straightaway.  This turns out to be somewhat challenging for RNNs as well, because the entire sequence has to be stored in the RNN's memory, and then recalled in reverse order.  (This is an obvious case where \"normal\" computing has the edge over machine learning: this task is easily done with either arrays or stacks).\n",
        "\n",
        "However, this is a task that we can learn to do with attention networks (I am loathe to call these transformers because what we will be doing is much simpler).  Indeed, it is easy to see precisely what behavior we would like attention to do: the first position in the output sequence should attend to the last position in the input sequence, the second to the second to last, and so on.  Can we learn to do this simply from paired input and output sequences?  \n",
        "\n",
        "## Sequences to reverse\n",
        "What sequences shall we apply this to?  One very simple case would be to reverse 1D real valued functions.  To that end, we can create a method that randomly generates a 1D real valued function of random length (in this case from a Gaussian Process), as well as its inverse."
      ]
    },
    {
      "cell_type": "code",
      "execution_count": 2,
      "id": "a2d14a85",
      "metadata": {
        "scrolled": true,
        "id": "a2d14a85",
        "outputId": "5bf96d99-5366-47a1-9a06-e2eae98a4ebc",
        "colab": {
          "base_uri": "https://localhost:8080/",
          "height": 481
        }
      },
      "outputs": [
        {
          "output_type": "stream",
          "name": "stderr",
          "text": [
            "/usr/local/lib/python3.7/dist-packages/ipykernel_launcher.py:14: UserWarning: torch.cholesky is deprecated in favor of torch.linalg.cholesky and will be removed in a future PyTorch release.\n",
            "L = torch.cholesky(A)\n",
            "should be replaced with\n",
            "L = torch.linalg.cholesky(A)\n",
            "and\n",
            "U = torch.cholesky(A, upper=True)\n",
            "should be replaced with\n",
            "U = torch.linalg.cholesky(A).transpose(-2, -1).conj().\n",
            "This transform will produce equivalent results for all valid (symmetric positive definite) inputs. (Triggered internally at  ../aten/src/ATen/native/BatchLinearAlgebra.cpp:1285.)\n",
            "  \n"
          ]
        },
        {
          "output_type": "execute_result",
          "data": {
            "text/plain": [
              "[<matplotlib.lines.Line2D at 0x7f6298b5a690>]"
            ]
          },
          "metadata": {},
          "execution_count": 2
        },
        {
          "output_type": "display_data",
          "data": {
            "image/png": "[encoded data removed]",
            "text/plain": [
              "<Figure size 432x288 with 1 Axes>"
            ]
          },
          "metadata": {
            "needs_background": "light"
          }
        }
      ],
      "source": [
        "import numpy as np\n",
        "import matplotlib.pyplot as plt\n",
        "import torch\n",
        "\n",
        "class DataGenerator:\n",
        "    def __init__(self):\n",
        "        pass    \n",
        "    \n",
        "    def __call__(self,n_in):\n",
        "        x = torch.linspace(0,n_in-1,n_in)\n",
        "        D = torch.cdist(x.view(-1,1),x.view(-1,1))\n",
        "        l = np.random.randn()\n",
        "        K = torch.exp(-(D/l)**2)\n",
        "        L = torch.cholesky(K + 1e-5*torch.eye(K.shape[0]))\n",
        "        v = L @ torch.randn(L.shape[1])\n",
        "        v_reverse = torch.from_numpy(v.numpy()[::-1].copy())\n",
        "        return v,v_reverse\n",
        "\n",
        "generator = DataGenerator()\n",
        "v,v_reverse = generator(15)\n",
        "\n",
        "plt.plot(v,'k-')\n",
        "plt.plot(v_reverse,'r--')"
      ]
    },
    {
      "cell_type": "markdown",
      "id": "d20f89cc",
      "metadata": {
        "id": "d20f89cc"
      },
      "source": [
        "## Positional Encoding\n",
        "\n",
        "Again, we would like to train a neural network to take as input the variable length sequence $\\vec{v}_i$ and return its reversal.  \n",
        "\n",
        "Because these functions are random, we would expect that the actual function values themselves will not be very informative for the purposes of reordering: there's not really a correlation between the function value and where it appears in the domain.  As such, we won't view the function values themselves as features as we would for a proper transformer.  Instead, we'll rely solely on the *positional encoding* to act as our feature.  \n",
        "\n",
        "There are many versions of plausible positional encodings.  A popular choice in the context of transformers is to encode the position through applying sinusoids of varying frequencies to the sequence position.  This is roughly equivalent to encoding the sequence index in binary.  Alternatively, positional encodings can be learned.  However, for our purposes it will be useful to use the simple encoding scheme of *index normalized by sequence length*\n",
        "$$\n",
        "\\vec{x}_\\text{Enc,i} = \\frac{i}{d_{in}},\n",
        "$$\n",
        "where $i$ is the sequence index.  The resulting encoding vector is zero at the zero-th position and one at the last.  Note that this choice throws away the objective notion of distance, which one could imagine to be useful for more complicated language modelling tasks where that actual objective distance might be an important indicator of, say, how related two words are.  In our task that distance is not important, and the simple encoding of relative position that the above equation affords works very well.  **Write a function that takes a sequence length $n_{in}$ and produces the positional encoding.  (This should be basically a one-liner)**"
      ]
    },
    {
      "cell_type": "code",
      "execution_count": 3,
      "id": "12412d7f",
      "metadata": {
        "id": "12412d7f"
      },
      "outputs": [],
      "source": [
        "def get_positional_encoding(n_in):\n",
        "    return (torch.arange(1,n_in+1) / (n_in-1)).unsqueeze(1) # Implement positional encoding in range [0,1]"
      ]
    },
    {
      "cell_type": "markdown",
      "id": "cbb47979",
      "metadata": {
        "id": "cbb47979"
      },
      "source": [
        "### Important note\n",
        "One effect of only using positional encodings as features (and not the function values themselves) is that we can generate the output sequences all at once: there's no need to build sequences one output at a time, because that output will not be used as input by the next sequence element.  \n",
        "\n",
        "\n",
        "## Key and query networks\n",
        "Let's begin to think about network architecture.  Again, our goal is to take an input sequence, augment it with a positional encoding and output the reversed sequence.  Let's hypothesize that this can be done \n",
        "as follows:\n",
        "$$\n",
        "\\vec{v}_{reversed} = \\text{Softmax}\\left(\\frac{Q K^T}{d_k}\\right) \\vec{v}\n",
        "$$\n",
        "where \n",
        "$$\n",
        "Q = q(\\vec{x}_\\text{Enc}) \\in \\mathbb{R}^{d_{in} \\times d_k}\n",
        "$$\n",
        "$$\n",
        "K = k(\\vec{x}_\\text{Enc}) \\in \\mathbb{R}^{d_{in} \\times d_k}.\n",
        "$$\n",
        "The functions $q(\\cdot)$ and $k(\\cdot)$ are neural networks that act in a position-wise fashion: they should accept as input a feature and output a query or key vector at that position.  Applying this function to every element in the sequence produces $Q$ and $K$.  Again, we're not using $\\vec{v}$ as a feature, so these can simply act on the positional encodings.  \n",
        "\n",
        "**Create both a key and query function.  These can be quite simple: perhaps an MLP with one hidden layer that accepts a sequence of positional encodings and outputs a matrix of size $d_{in} \\times d_k$**"
      ]
    },
    {
      "cell_type": "code",
      "execution_count": 4,
      "id": "25ee79a0",
      "metadata": {
        "id": "25ee79a0"
      },
      "outputs": [],
      "source": [
        "class KeyNet(torch.nn.Module):\n",
        "    def __init__(self,d_positional_encoding,d_k):\n",
        "        super(KeyNet, self).__init__()\n",
        "        self.l1 = torch.nn.Linear(d_positional_encoding, 512) \n",
        "        self.relu = torch.nn.ReLU()\n",
        "        self.l2 = torch.nn.Linear(512, d_k)\n",
        "        \n",
        "    def forward(self,X):\n",
        "        h = self.l1(X)\n",
        "        h = self.relu(h)\n",
        "        return self.l2(h)\n",
        "    \n",
        "class QueryNet(torch.nn.Module):\n",
        "    def __init__(self,d_positional_encoding,d_k):\n",
        "        super(QueryNet, self).__init__()\n",
        "        self.l1 = torch.nn.Linear(d_positional_encoding, 512) \n",
        "        self.relu = torch.nn.ReLU()\n",
        "        self.l2 = torch.nn.Linear(512, d_k)\n",
        "        \n",
        "    def forward(self,X):\n",
        "        h = self.l1(X)\n",
        "        h = self.relu(h)\n",
        "        return self.l2(h) "
      ]
    },
    {
      "cell_type": "markdown",
      "id": "f951f008",
      "metadata": {
        "id": "f951f008"
      },
      "source": [
        "## The ReverseNet\n",
        "Now that we have a means of generating keys and queries, all we need to do is to implement the attention function.  **Implement a torch module that**\n",
        "- takes as input a variable length sequence\n",
        "- computes the positional encoding of input and output sequence (are they different?) \n",
        "- uses that encoding to produce a key matrix for the input sequence and a query matrix for the output sequence\n",
        "- computes the scaled dot-product attention matrix\n",
        "- applies the attention matrix to the input sequence to produce the output sequence"
      ]
    },
    {
      "cell_type": "code",
      "execution_count": 15,
      "id": "5639efbf",
      "metadata": {
        "id": "5639efbf"
      },
      "outputs": [],
      "source": [
        "class Reverser(torch.nn.Module):\n",
        "    def __init__(self, dim_kq):\n",
        "        # This init method should initialize key and query networks\n",
        "        super(Reverser, self).__init__()\n",
        "        self.dim_kq = dim_kq\n",
        "        self.key_net = KeyNet(1,dim_kq) \n",
        "        self.query_net = QueryNet(1,dim_kq) \n",
        "        self.softmax = torch.nn.Softmax(dim=1)\n",
        "        \n",
        "    def forward(self,V):\n",
        "        # generate positional encodings\n",
        "        positional_encodings = get_positional_encoding(V.shape[0])\n",
        "        # compute query and key matrices\n",
        "        Q = self.query_net(positional_encodings)\n",
        "        K = self.key_net(positional_encodings)\n",
        "        # compute attention matrix\n",
        "        A = self.softmax((Q @ K.T / self.dim_kq))\n",
        "        # produce output sequence\n",
        "        V_rev = A @ V\n",
        "        return V_rev, A\n",
        "    \n",
        "reverser = Reverser(256) # You may wish to add arguments to the constructor"
      ]
    },
    {
      "cell_type": "markdown",
      "id": "c3341e24",
      "metadata": {
        "id": "c3341e24"
      },
      "source": [
        "## Training\n",
        "Of course this network will not yet be skillful at reversing sequences because it hasn't been trained.  We can implement a simple training loop"
      ]
    },
    {
      "cell_type": "code",
      "source": [
        "reverser.parameters"
      ],
      "metadata": {
        "colab": {
          "base_uri": "https://localhost:8080/"
        },
        "id": "VVfO65-HbqWD",
        "outputId": "00a7d03b-efea-4ea4-a6c8-4c897e48c84b"
      },
      "id": "VVfO65-HbqWD",
      "execution_count": 6,
      "outputs": [
        {
          "output_type": "execute_result",
          "data": {
            "text/plain": [
              "<bound method Module.parameters of Reverser(\n",
              "  (key_net): KeyNet(\n",
              "    (l1): Linear(in_features=1, out_features=512, bias=True)\n",
              "    (relu): ReLU()\n",
              "    (l2): Linear(in_features=512, out_features=256, bias=True)\n",
              "  )\n",
              "  (query_net): QueryNet(\n",
              "    (l1): Linear(in_features=1, out_features=512, bias=True)\n",
              "    (relu): ReLU()\n",
              "    (l2): Linear(in_features=512, out_features=256, bias=True)\n",
              "  )\n",
              ")>"
            ]
          },
          "metadata": {},
          "execution_count": 6
        }
      ]
    },
    {
      "cell_type": "code",
      "execution_count": 17,
      "id": "3f7a68ad",
      "metadata": {
        "id": "3f7a68ad",
        "colab": {
          "base_uri": "https://localhost:8080/"
        },
        "outputId": "92eb66cf-6ef1-4919-f214-4fbc532ad126"
      },
      "outputs": [
        {
          "output_type": "stream",
          "name": "stdout",
          "text": [
            "Iteration: 0, Loss: 2.12\n",
            "Iteration: 50, Loss: 6.10\n",
            "Iteration: 100, Loss: 2.05\n",
            "Iteration: 150, Loss: 1.83\n",
            "Iteration: 200, Loss: 1.90\n",
            "Iteration: 250, Loss: 2.75\n",
            "Iteration: 300, Loss: 2.45\n",
            "Iteration: 350, Loss: 5.45\n",
            "Iteration: 400, Loss: 2.94\n",
            "Iteration: 450, Loss: 1.51\n",
            "Iteration: 500, Loss: 1.56\n",
            "Iteration: 550, Loss: 2.04\n",
            "Iteration: 600, Loss: 0.77\n",
            "Iteration: 650, Loss: 2.64\n",
            "Iteration: 700, Loss: 4.15\n",
            "Iteration: 750, Loss: 1.02\n",
            "Iteration: 800, Loss: 6.84\n",
            "Iteration: 850, Loss: 1.79\n",
            "Iteration: 900, Loss: 3.82\n",
            "Iteration: 950, Loss: 1.36\n",
            "tensor([[0.0000e+00, 0.0000e+00, 0.0000e+00, 0.0000e+00, 0.0000e+00, 0.0000e+00,\n",
            "         0.0000e+00, 0.0000e+00, 0.0000e+00, 0.0000e+00, 0.0000e+00, 0.0000e+00,\n",
            "         0.0000e+00, 0.0000e+00, 0.0000e+00, 4.2039e-45, 5.1213e-27, 4.6002e-14,\n",
            "         1.0719e-05, 1.4098e-01, 8.5901e-01],\n",
            "        [0.0000e+00, 0.0000e+00, 0.0000e+00, 0.0000e+00, 0.0000e+00, 0.0000e+00,\n",
            "         0.0000e+00, 0.0000e+00, 0.0000e+00, 0.0000e+00, 0.0000e+00, 0.0000e+00,\n",
            "         0.0000e+00, 0.0000e+00, 0.0000e+00, 8.2938e-28, 2.8021e-14, 1.4166e-05,\n",
            "         3.1880e-01, 6.8019e-01, 9.9699e-04],\n",
            "        [0.0000e+00, 0.0000e+00, 0.0000e+00, 0.0000e+00, 0.0000e+00, 0.0000e+00,\n",
            "         0.0000e+00, 0.0000e+00, 0.0000e+00, 0.0000e+00, 0.0000e+00, 0.0000e+00,\n",
            "         0.0000e+00, 0.0000e+00, 2.4221e-29, 1.3480e-14, 1.3072e-05, 3.3637e-01,\n",
            "         6.6341e-01, 2.0922e-04, 6.7409e-11],\n",
            "        [0.0000e+00, 0.0000e+00, 0.0000e+00, 0.0000e+00, 0.0000e+00, 0.0000e+00,\n",
            "         0.0000e+00, 0.0000e+00, 0.0000e+00, 0.0000e+00, 0.0000e+00, 0.0000e+00,\n",
            "         0.0000e+00, 5.6405e-31, 2.7023e-15, 2.0211e-05, 4.7388e-01, 5.2603e-01,\n",
            "         7.7555e-05, 3.1013e-12, 1.8928e-22],\n",
            "        [0.0000e+00, 0.0000e+00, 0.0000e+00, 0.0000e+00, 0.0000e+00, 0.0000e+00,\n",
            "         0.0000e+00, 0.0000e+00, 0.0000e+00, 0.0000e+00, 0.0000e+00, 0.0000e+00,\n",
            "         4.1310e-32, 1.9352e-16, 7.1225e-06, 6.5706e-01, 3.4292e-01, 1.5171e-05,\n",
            "         1.5494e-13, 7.3028e-25, 7.8674e-39],\n",
            "        [0.0000e+00, 0.0000e+00, 0.0000e+00, 0.0000e+00, 0.0000e+00, 0.0000e+00,\n",
            "         0.0000e+00, 0.0000e+00, 0.0000e+00, 0.0000e+00, 0.0000e+00, 2.7273e-33,\n",
            "         8.0710e-17, 1.7186e-06, 4.7398e-01, 5.2601e-01, 5.9615e-06, 1.0257e-14,\n",
            "         7.0857e-27, 3.8452e-42, 0.0000e+00],\n",
            "        [0.0000e+00, 0.0000e+00, 0.0000e+00, 0.0000e+00, 0.0000e+00, 0.0000e+00,\n",
            "         0.0000e+00, 0.0000e+00, 0.0000e+00, 0.0000e+00, 2.2501e-33, 1.4473e-17,\n",
            "         2.2354e-06, 2.7641e-01, 7.2358e-01, 1.2139e-05, 3.7149e-15, 3.0584e-28,\n",
            "         1.6816e-44, 0.0000e+00, 0.0000e+00],\n",
            "        [0.0000e+00, 0.0000e+00, 0.0000e+00, 0.0000e+00, 0.0000e+00, 0.0000e+00,\n",
            "         0.0000e+00, 0.0000e+00, 0.0000e+00, 7.0528e-34, 7.0285e-18, 3.8664e-07,\n",
            "         4.7710e-01, 5.2288e-01, 1.9500e-05, 7.3089e-15, 8.7493e-29, 1.4013e-45,\n",
            "         0.0000e+00, 0.0000e+00, 0.0000e+00],\n",
            "        [0.0000e+00, 0.0000e+00, 0.0000e+00, 0.0000e+00, 0.0000e+00, 0.0000e+00,\n",
            "         0.0000e+00, 0.0000e+00, 8.8754e-35, 8.7911e-18, 4.8249e-07, 1.4075e-01,\n",
            "         8.5925e-01, 5.1987e-06, 1.7534e-15, 9.5029e-30, 0.0000e+00, 0.0000e+00,\n",
            "         0.0000e+00, 0.0000e+00, 0.0000e+00],\n",
            "        [0.0000e+00, 0.0000e+00, 0.0000e+00, 0.0000e+00, 0.0000e+00, 0.0000e+00,\n",
            "         0.0000e+00, 1.1365e-35, 2.0746e-18, 1.2748e-06, 3.9008e-01, 6.0990e-01,\n",
            "         1.8614e-05, 6.2749e-16, 1.9293e-30, 0.0000e+00, 0.0000e+00, 0.0000e+00,\n",
            "         0.0000e+00, 0.0000e+00, 0.0000e+00],\n",
            "        [0.0000e+00, 0.0000e+00, 0.0000e+00, 0.0000e+00, 0.0000e+00, 0.0000e+00,\n",
            "         1.5678e-35, 6.0735e-19, 3.5473e-07, 5.7950e-01, 4.2049e-01, 1.4964e-06,\n",
            "         9.6681e-17, 7.7704e-33, 0.0000e+00, 0.0000e+00, 0.0000e+00, 0.0000e+00,\n",
            "         0.0000e+00, 0.0000e+00, 0.0000e+00],\n",
            "        [0.0000e+00, 0.0000e+00, 0.0000e+00, 0.0000e+00, 0.0000e+00, 7.7613e-35,\n",
            "         1.0995e-18, 1.5383e-07, 2.2656e-01, 7.7344e-01, 1.0454e-06, 6.6587e-18,\n",
            "         7.1607e-34, 0.0000e+00, 0.0000e+00, 0.0000e+00, 0.0000e+00, 0.0000e+00,\n",
            "         0.0000e+00, 0.0000e+00, 0.0000e+00],\n",
            "        [0.0000e+00, 0.0000e+00, 0.0000e+00, 0.0000e+00, 1.4126e-33, 4.4721e-18,\n",
            "         4.2001e-07, 2.1230e-01, 7.8769e-01, 5.6207e-06, 1.4163e-17, 1.6140e-34,\n",
            "         0.0000e+00, 0.0000e+00, 0.0000e+00, 0.0000e+00, 0.0000e+00, 0.0000e+00,\n",
            "         0.0000e+00, 0.0000e+00, 0.0000e+00],\n",
            "        [0.0000e+00, 0.0000e+00, 0.0000e+00, 1.5589e-32, 1.9893e-17, 5.6849e-07,\n",
            "         3.5397e-01, 6.4602e-01, 6.0440e-06, 9.0146e-17, 4.2303e-34, 0.0000e+00,\n",
            "         0.0000e+00, 0.0000e+00, 0.0000e+00, 0.0000e+00, 0.0000e+00, 0.0000e+00,\n",
            "         0.0000e+00, 0.0000e+00, 0.0000e+00],\n",
            "        [0.0000e+00, 0.0000e+00, 2.8584e-31, 3.7354e-17, 5.6748e-07, 1.7135e-01,\n",
            "         8.2864e-01, 6.4207e-06, 1.7840e-16, 6.5394e-33, 0.0000e+00, 0.0000e+00,\n",
            "         0.0000e+00, 0.0000e+00, 0.0000e+00, 0.0000e+00, 0.0000e+00, 0.0000e+00,\n",
            "         0.0000e+00, 0.0000e+00, 0.0000e+00],\n",
            "        [0.0000e+00, 4.5334e-30, 5.1774e-16, 1.2403e-06, 2.3243e-01, 7.6754e-01,\n",
            "         2.9845e-05, 1.0191e-15, 8.7197e-32, 0.0000e+00, 0.0000e+00, 0.0000e+00,\n",
            "         0.0000e+00, 0.0000e+00, 0.0000e+00, 0.0000e+00, 0.0000e+00, 0.0000e+00,\n",
            "         0.0000e+00, 0.0000e+00, 0.0000e+00],\n",
            "        [2.9062e-29, 3.0062e-15, 6.8837e-06, 3.0194e-01, 6.9802e-01, 2.5219e-05,\n",
            "         7.8864e-15, 1.1855e-30, 0.0000e+00, 0.0000e+00, 0.0000e+00, 0.0000e+00,\n",
            "         0.0000e+00, 0.0000e+00, 0.0000e+00, 0.0000e+00, 0.0000e+00, 0.0000e+00,\n",
            "         0.0000e+00, 0.0000e+00, 0.0000e+00],\n",
            "        [4.8926e-15, 1.1728e-05, 5.4963e-01, 4.5035e-01, 1.3112e-05, 5.2921e-15,\n",
            "         1.3584e-29, 0.0000e+00, 0.0000e+00, 0.0000e+00, 0.0000e+00, 0.0000e+00,\n",
            "         0.0000e+00, 0.0000e+00, 0.0000e+00, 0.0000e+00, 0.0000e+00, 0.0000e+00,\n",
            "         0.0000e+00, 0.0000e+00, 0.0000e+00],\n",
            "        [8.6754e-06, 5.0094e-01, 4.9905e-01, 7.9445e-06, 3.0268e-15, 1.4150e-29,\n",
            "         0.0000e+00, 0.0000e+00, 0.0000e+00, 0.0000e+00, 0.0000e+00, 0.0000e+00,\n",
            "         0.0000e+00, 0.0000e+00, 0.0000e+00, 0.0000e+00, 0.0000e+00, 0.0000e+00,\n",
            "         0.0000e+00, 0.0000e+00, 0.0000e+00],\n",
            "        [4.0368e-01, 5.9631e-01, 1.3420e-05, 4.4027e-15, 2.3294e-29, 0.0000e+00,\n",
            "         0.0000e+00, 0.0000e+00, 0.0000e+00, 0.0000e+00, 0.0000e+00, 0.0000e+00,\n",
            "         0.0000e+00, 0.0000e+00, 0.0000e+00, 0.0000e+00, 0.0000e+00, 0.0000e+00,\n",
            "         0.0000e+00, 0.0000e+00, 0.0000e+00],\n",
            "        [9.9991e-01, 9.4025e-05, 1.1574e-13, 1.8405e-27, 0.0000e+00, 0.0000e+00,\n",
            "         0.0000e+00, 0.0000e+00, 0.0000e+00, 0.0000e+00, 0.0000e+00, 0.0000e+00,\n",
            "         0.0000e+00, 0.0000e+00, 0.0000e+00, 0.0000e+00, 0.0000e+00, 0.0000e+00,\n",
            "         0.0000e+00, 0.0000e+00, 0.0000e+00]], grad_fn=<SoftmaxBackward0>)\n"
          ]
        }
      ],
      "source": [
        "optimizer = torch.optim.Adam(reverser.parameters(),lr=1e-2)\n",
        "batch_size = 25\n",
        "n_epochs = 1000\n",
        "\n",
        "for i in range(n_epochs):\n",
        "    optimizer.zero_grad()\n",
        "    loss = 0.0\n",
        "    for j in range(batch_size):\n",
        "        d_in = np.random.randint(20,30)\n",
        "        v,v_reverse = generator(d_in)\n",
        "\n",
        "        v_reverse_predicted, attention_matrix = reverser(v)\n",
        "        loss += (((v_reverse_predicted - v_reverse )**2).mean())\n",
        "        \n",
        "    loss.backward()\n",
        "    optimizer.step()\n",
        "    if i%50==0:\n",
        "        print(f\"Iteration: {i}, Loss: {loss.item():.02f}\")\n",
        "\n",
        "print(attention_matrix)"
      ]
    },
    {
      "cell_type": "markdown",
      "id": "bbca8cd3",
      "metadata": {
        "id": "bbca8cd3"
      },
      "source": [
        "Having successfully trained the network, we can look at some output!"
      ]
    },
    {
      "cell_type": "code",
      "execution_count": 12,
      "id": "6f61d626",
      "metadata": {
        "id": "6f61d626",
        "colab": {
          "base_uri": "https://localhost:8080/",
          "height": 283
        },
        "outputId": "e3786146-2efd-4087-8ece-eae840afc7cb"
      },
      "outputs": [
        {
          "output_type": "execute_result",
          "data": {
            "text/plain": [
              "[<matplotlib.lines.Line2D at 0x7f629061e950>]"
            ]
          },
          "metadata": {},
          "execution_count": 12
        },
        {
          "output_type": "display_data",
          "data": {
            "image/png": "[encoded data removed]",
            "text/plain": [
              "<Figure size 432x288 with 1 Axes>"
            ]
          },
          "metadata": {
            "needs_background": "light"
          }
        }
      ],
      "source": [
        "v,_ = generator(20)\n",
        "v_r = reverser(v)\n",
        "plt.plot(v,'k-')\n",
        "plt.plot(v_r.detach(),'r--')\n"
      ]
    },
    {
      "cell_type": "markdown",
      "id": "b22e23f6",
      "metadata": {
        "id": "b22e23f6"
      },
      "source": [
        "Wow!  We have managed to turn a simple numpy call into a rather complicated neural network, but it works.  However, despite the simplicity of the task, this is perhaps useful for checking your intuition regarding how attention works.  In particular, what do you suppose the attention matrix \n",
        "$$\n",
        "A = \\text{Softmax}\\left(\\frac{Q K^T}{d_k}\\right)\n",
        "$$\n",
        "looks like for this problem?  **Spend a moment talking to your neighbor or making a sketch**.  **Then modify the Reverser class' forward method to output not not only the reversed sequence, but also the attention matrix.  Plot that matrix (plt.imshow works well for this) for a few examples and see if this aligns with your intuition.**  \n",
        "__Response:__ The attention matrix aligns precisely with my intuition; the query vectors of items at index 'n' should have high dot product values with keys vectors of items at index 'n-1', a relationship that is precisely depicted by a square matrix with high values on the \"inverse diagonal,\" and near-zero values elsewhere."
      ]
    },
    {
      "cell_type": "code",
      "source": [
        "AM = attention_matrix.detach().numpy()\n",
        "plt.imshow(AM)"
      ],
      "metadata": {
        "colab": {
          "base_uri": "https://localhost:8080/",
          "height": 283
        },
        "id": "tMniK2iIajYp",
        "outputId": "c87a567c-94bf-416a-ca1c-53d5d41118cd"
      },
      "id": "tMniK2iIajYp",
      "execution_count": 22,
      "outputs": [
        {
          "output_type": "execute_result",
          "data": {
            "text/plain": [
              "<matplotlib.image.AxesImage at 0x7f62904fed90>"
            ]
          },
          "metadata": {},
          "execution_count": 22
        },
        {
          "output_type": "display_data",
          "data": {
            "image/png": "[encoded data removed]",
            "text/plain": [
              "<Figure size 432x288 with 1 Axes>"
            ]
          },
          "metadata": {
            "needs_background": "light"
          }
        }
      ]
    }
  ],
  "metadata": {
    "kernelspec": {
      "display_name": "Python 3 (ipykernel)",
      "language": "python",
      "name": "python3"
    },
    "language_info": {
      "codemirror_mode": {
        "name": "ipython",
        "version": 3
      },
      "file_extension": ".py",
      "mimetype": "text/x-python",
      "name": "python",
      "nbconvert_exporter": "python",
      "pygments_lexer": "ipython3",
      "version": "3.8.12"
    },
    "colab": {
      "name": "Copy of ReverseNet.ipynb",
      "provenance": [],
      "collapsed_sections": []
    },
    "accelerator": "GPU"
  },
  "nbformat": 4,
  "nbformat_minor": 5
}