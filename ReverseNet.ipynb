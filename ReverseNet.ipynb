{
 "cells": [
  {
   "cell_type": "markdown",
   "id": "682c43a5",
   "metadata": {},
   "source": [
    "# Week 7: ReverseNet\n",
    "### (A very silly but pedagogically useful attention network)\n",
    "\n",
    "Transformers are sequence-to-sequence models, primarily designed to operate on complex datasets in natural language processing, computer vision, or more exotic applications.  However, we can conceptualize much simpler sequence-to-sequence tasks.  For example, one very simple sequence-to-sequence task is to simply reverse the order of the input sequence.  This turns out to be a bit difficult for a variety of different architectures: first, we can presume that we'll have variable length sequences, and so a multilayer perceptron will not work for this straightaway.  This turns out to be somewhat challenging for RNNs as well, because the entire sequence has to be stored in the RNN's memory, and then recalled in reverse order.  (This is an obvious case where \"normal\" computing has the edge over machine learning: this task is easily done with either arrays or stacks).\n",
    "\n",
    "However, this is a task that we can learn to do with attention networks (I am loathe to call these transformers because what we will be doing is much simpler).  Indeed, it is easy to see precisely what behavior we would like attention to do: the first position in the output sequence should attend to the last position in the input sequence, the second to the second to last, and so on.  Can we learn to do this simply from paired input and output sequences?  \n",
    "\n",
    "## Sequences to reverse\n",
    "What sequences shall we apply this to?  One very simple case would be to reverse 1D real valued functions.  To that end, we can create a method that randomly generates a 1D real valued function of random length (in this case from a Gaussian Process), as well as its inverse."
   ]
  },
  {
   "cell_type": "code",
   "execution_count": 17,
   "id": "4d53494d",
   "metadata": {
    "scrolled": true
   },
   "outputs": [
    {
     "data": {
      "text/plain": [
       "tensor([-1.3079, -1.0674, -0.6434, -0.8735,  1.8752,  0.0273, -0.4341,  0.9768,\n",
       "        -1.1336, -0.0178, -0.4346,  1.4596, -1.9703,  0.5060, -0.3797])"
      ]
     },
     "execution_count": 17,
     "metadata": {},
     "output_type": "execute_result"
    },
    {
     "data": {
      "image/png": "[encoded data removed]",
      "text/plain": [
       "<Figure size 432x288 with 1 Axes>"
      ]
     },
     "metadata": {
      "needs_background": "light"
     },
     "output_type": "display_data"
    }
   ],
   "source": [
    "# Gina Mazza\n",
    "# 3/3/2022\n",
    "\n",
    "import numpy as np\n",
    "import matplotlib.pyplot as plt\n",
    "import torch\n",
    "import torch.nn as nn\n",
    "\n",
    "class DataGenerator:\n",
    "    def __init__(self):\n",
    "        pass    \n",
    "    \n",
    "    def __call__(self,n_in):\n",
    "        x = torch.linspace(0,n_in-1,n_in)\n",
    "        D = torch.cdist(x.view(-1,1),x.view(-1,1))\n",
    "        l = np.random.randn()\n",
    "        K = torch.exp(-(D/l)**2)\n",
    "        L = torch.cholesky(K + 1e-5*torch.eye(K.shape[0]))\n",
    "        v = L @ torch.randn(L.shape[1])\n",
    "        v_reverse = torch.from_numpy(v.numpy()[::-1].copy())\n",
    "        return v,v_reverse\n",
    "\n",
    "generator = DataGenerator()\n",
    "v,v_reverse = generator(15)\n",
    "\n",
    "plt.plot(v,'k-')\n",
    "plt.plot(v_reverse,'r--')\n",
    "\n",
    "\n",
    "type(v.shape)\n",
    "type(len(v))\n",
    "\n",
    "v"
   ]
  },
  {
   "cell_type": "markdown",
   "id": "beedc4d3",
   "metadata": {},
   "source": [
    "## Positional Encoding\n",
    "\n",
    "Again, we would like to train a neural network to take as input the variable length sequence $\\vec{v}_i$ and return its reversal.  \n",
    "\n",
    "Because these functions are random, we would expect that the actual function values themselves will not be very informative for the purposes of reordering: there's not really a correlation between the function value and where it appears in the domain.  As such, we won't view the function values themselves as features as we would for a proper transformer.  Instead, we'll rely solely on the *positional encoding* to act as our feature.  \n",
    "\n",
    "There are many versions of plausible positional encodings.  A popular choice in the context of transformers is to encode the position through applying sinusoids of varying frequencies to the sequence position.  This is roughly equivalent to encoding the sequence index in binary.  Alternatively, positional encodings can be learned.  However, for our purposes it will be useful to use the simple encoding scheme of *index normalized by sequence length*\n",
    "$$\n",
    "\\vec{x}_\\text{Enc,i} = \\frac{i}{d_{in}},\n",
    "$$\n",
    "where $i$ is the sequence index.  The resulting encoding vector is zero at the zero-th position and one at the last.  Note that this choice throws away the objective notion of distance, which one could imagine to be useful for more complicated language modelling tasks where that actual objective distance might be an important indicator of, say, how related two words are.  In our task that distance is not important, and the simple encoding of relative position that the above equation affords works very well.  **Write a function that takes a sequence length $n_{in}$ and produces the positional encoding.  (This should be basically a one-liner)**"
   ]
  },
  {
   "cell_type": "code",
   "execution_count": 56,
   "id": "088ee39f",
   "metadata": {},
   "outputs": [
    {
     "data": {
      "text/plain": [
       "tensor([0.0000, 0.0256, 0.0513, 0.0769, 0.1026, 0.1282, 0.1538, 0.1795, 0.2051,\n",
       "        0.2308, 0.2564, 0.2821, 0.3077, 0.3333, 0.3590, 0.3846, 0.4103, 0.4359,\n",
       "        0.4615, 0.4872, 0.5128, 0.5385, 0.5641, 0.5897, 0.6154, 0.6410, 0.6667,\n",
       "        0.6923, 0.7179, 0.7436, 0.7692, 0.7949, 0.8205, 0.8462, 0.8718, 0.8974,\n",
       "        0.9231, 0.9487, 0.9744, 1.0000])"
      ]
     },
     "execution_count": 56,
     "metadata": {},
     "output_type": "execute_result"
    }
   ],
   "source": [
    "def get_positional_encoding(n_in):\n",
    "    return torch.linspace(0, 1, n_in)# Implement positional encoding in range [0,1]\n",
    "\n",
    "get_positional_encoding(40)"
   ]
  },
  {
   "cell_type": "markdown",
   "id": "7660ab58",
   "metadata": {},
   "source": [
    "### Important note\n",
    "One effect of only using positional encodings as features (and not the function values themselves) is that we can generate the output sequences all at once: there's no need to build sequences one output at a time, because that output will not be used as input by the next sequence element.  \n",
    "\n",
    "\n",
    "## Key and query networks\n",
    "Let's begin to think about network architecture.  Again, our goal is to take an input sequence, augment it with a positional encoding and output the reversed sequence.  Let's hypothesize that this can be done \n",
    "as follows:\n",
    "$$\n",
    "\\vec{v}_{reversed} = \\text{Softmax}\\left(\\frac{Q K^T}{d_k}\\right) \\vec{v}\n",
    "$$\n",
    "where \n",
    "$$\n",
    "Q = q(\\vec{x}_\\text{Enc}) \\in \\mathbb{R}^{d_{in} \\times d_k}\n",
    "$$\n",
    "$$\n",
    "K = k(\\vec{x}_\\text{Enc}) \\in \\mathbb{R}^{d_{in} \\times d_k}.\n",
    "$$\n",
    "The functions $q(\\cdot)$ and $k(\\cdot)$ are neural networks that act in a position-wise fashion: they should accept as input a feature and output a query or key vector at that position.  Applying this function to every element in the sequence produces $Q$ and $K$.  Again, we're not using $\\vec{v}$ as a feature, so these can simply act on the positional encodings.  \n",
    "\n",
    "**Create both a key and query function.  These can be quite simple: perhaps an MLP with one hidden layer that accepts a sequence of positional encodings and outputs a matrix of size $d_{in} \\times d_k$**"
   ]
  },
  {
   "cell_type": "code",
   "execution_count": 21,
   "id": "e3241b6d",
   "metadata": {},
   "outputs": [],
   "source": [
    "class KeyNet(torch.nn.Module):\n",
    "    def __init__(self, d_positional_encoding, d_k, hidden_dims):\n",
    "        super(KeyNet, self).__init__()\n",
    "        self.l1 = nn.Linear(d_positional_encoding, hidden_dims)\n",
    "        self.l2 = nn.Linear(hidden_dims, d_k)\n",
    "        \n",
    "    def forward(self,X):\n",
    "        X = X[:,None]\n",
    "        a1 = self.l1(X)\n",
    "        z1 = torch.relu(a1)\n",
    "        a2 = self.l2(z1)\n",
    "        \n",
    "        return a2\n",
    "    \n",
    "class QueryNet(torch.nn.Module):\n",
    "    def __init__(self,d_positional_encoding, d_k, hidden_dims):\n",
    "        super(QueryNet, self).__init__()\n",
    "        self.l1 = nn.Linear(d_positional_encoding, hidden_dims)\n",
    "        self.l2 = nn.Linear(hidden_dims, d_k)\n",
    "       \n",
    "    def forward(self,X):\n",
    "        X = X[:,None]\n",
    "        a1 = self.l1(X)\n",
    "        z1 = torch.relu(a1)\n",
    "        a2 = self.l2(z1)\n",
    "        \n",
    "        return a2"
   ]
  },
  {
   "cell_type": "markdown",
   "id": "0bb5aa20",
   "metadata": {},
   "source": [
    "## The ReverseNet\n",
    "Now that we have a means of generating keys and queries, all we need to do is to implement the attention function.  **Implement a torch module that**\n",
    "- takes as input a variable length sequence\n",
    "- computes the positional encoding of input and output sequence (are they different?) \n",
    "- uses that encoding to produce a key matrix for the input sequence and a query matrix for the output sequence\n",
    "- computes the scaled dot-product attention matrix\n",
    "- applies the attention matrix to the input sequence to produce the output sequence"
   ]
  },
  {
   "cell_type": "code",
   "execution_count": 52,
   "id": "74a8f132",
   "metadata": {},
   "outputs": [],
   "source": [
    "class Reverser(torch.nn.Module):\n",
    "    def __init__(self, d_k, hidden_dims):\n",
    "        # This init method should initialize key and query networks\n",
    "        super(Reverser, self).__init__()\n",
    "        self.key = KeyNet(1, d_k, hidden_dims)\n",
    "        self.query = QueryNet(1, d_k, hidden_dims)\n",
    "        self.softmax = nn.Softmax(dim=1)\n",
    "        self.d_k = d_k\n",
    "        \n",
    "        \n",
    "    def forward(self,V):\n",
    "        # generate positional encodings\n",
    "        positional_encodings = get_positional_encoding(V.shape[0])\n",
    "#         print(positional_encodings)\n",
    "        # compute query and key matrices\n",
    "        qMat = self.query(positional_encodings)\n",
    "        kMat = self.query(positional_encodings)\n",
    "        \n",
    "        # compute attention matrix\n",
    "        attn = self.softmax(qMat@(kMat.T)/self.d_k)\n",
    "              \n",
    "        # produce output sequence\n",
    "        outSeq = attn@V\n",
    "        return outSeq\n",
    "    \n",
    "reverser = Reverser(100, 100) # You may wish to add arguments to the constructor"
   ]
  },
  {
   "cell_type": "markdown",
   "id": "647d70ca",
   "metadata": {},
   "source": [
    "## Training\n",
    "Of course this network will not yet be skillful at reversing sequences because it hasn't been trained.  We can implement a simple training loop"
   ]
  },
  {
   "cell_type": "code",
   "execution_count": 53,
   "id": "f62ccd61",
   "metadata": {},
   "outputs": [
    {
     "name": "stdout",
     "output_type": "stream",
     "text": [
      "Iteration: 0, Loss: 21.81\n",
      "Iteration: 50, Loss: 26.31\n",
      "Iteration: 100, Loss: 23.11\n",
      "Iteration: 150, Loss: 21.06\n",
      "Iteration: 200, Loss: 18.98\n",
      "Iteration: 250, Loss: 22.13\n",
      "Iteration: 300, Loss: 19.90\n",
      "Iteration: 350, Loss: 18.98\n",
      "Iteration: 400, Loss: 20.12\n",
      "Iteration: 450, Loss: 20.67\n",
      "Iteration: 500, Loss: 22.01\n",
      "Iteration: 550, Loss: 19.42\n",
      "Iteration: 600, Loss: 20.74\n",
      "Iteration: 650, Loss: 20.47\n",
      "Iteration: 700, Loss: 20.64\n",
      "Iteration: 750, Loss: 21.22\n",
      "Iteration: 800, Loss: 21.85\n",
      "Iteration: 850, Loss: 21.52\n",
      "Iteration: 900, Loss: 22.75\n",
      "Iteration: 950, Loss: 20.65\n"
     ]
    }
   ],
   "source": [
    "optimizer = torch.optim.Adam(reverser.parameters(),lr=1e-2)\n",
    "batch_size = 25\n",
    "n_epochs = 1000\n",
    "\n",
    "for i in range(n_epochs):\n",
    "    optimizer.zero_grad()\n",
    "    loss = 0.0\n",
    "    for j in range(batch_size):\n",
    "        d_in = np.random.randint(20,30)\n",
    "        v,v_reverse = generator(d_in)\n",
    "\n",
    "        v_reverse_predicted = reverser(v)\n",
    "        loss += (((v_reverse_predicted - v_reverse )**2).mean())\n",
    "        \n",
    "    loss.backward()\n",
    "    optimizer.step()\n",
    "    if i%50==0:\n",
    "        print(f\"Iteration: {i}, Loss: {loss.item():.02f}\")\n"
   ]
  },
  {
   "cell_type": "markdown",
   "id": "afe72a45",
   "metadata": {},
   "source": [
    "Having successfully trained the network, we can look at some output!"
   ]
  },
  {
   "cell_type": "code",
   "execution_count": 54,
   "id": "c368bf56",
   "metadata": {},
   "outputs": [
    {
     "data": {
      "text/plain": [
       "[<matplotlib.lines.Line2D at 0x1255d5721f0>]"
      ]
     },
     "execution_count": 54,
     "metadata": {},
     "output_type": "execute_result"
    },
    {
     "data": {
      "image/png": "[encoded data removed]",
      "text/plain": [
       "<Figure size 432x288 with 1 Axes>"
      ]
     },
     "metadata": {
      "needs_background": "light"
     },
     "output_type": "display_data"
    }
   ],
   "source": [
    "v,_ = generator(20)\n",
    "v_r = reverser(v)\n",
    "plt.plot(v,'k-')\n",
    "plt.plot(v_r.detach(),'r--')\n"
   ]
  },
  {
   "cell_type": "markdown",
   "id": "c1210af1",
   "metadata": {},
   "source": [
    "Wow!  We have managed to turn a simple numpy call into a rather complicated neural network, but it works.  However, despite the simplicity of the task, this is perhaps useful for checking your intuition regarding how attention works.  In particular, what do you suppose the attention matrix \n",
    "$$\n",
    "A = \\text{Softmax}\\left(\\frac{Q K^T}{d_k}\\right)\n",
    "$$\n",
    "looks like for this problem?  **Spend a moment talking to your neighbor or making a sketch**.  **Then modify the Reverser class' forward method to output not not only the reversed sequence, but also the attention matrix.  Plot that matrix (plt.imshow works well for this) for a few examples and see if this aligns with your intuition.**  "
   ]
  },
  {
   "cell_type": "code",
   "execution_count": 48,
   "id": "5476e5db",
   "metadata": {},
   "outputs": [],
   "source": [
    "class ReverserAttn(torch.nn.Module):\n",
    "    def __init__(self, d_k, hidden_dims):\n",
    "        # This init method should initialize key and query networks\n",
    "        super(ReverserAttn, self).__init__()\n",
    "        self.key = KeyNet(1, d_k, hidden_dims)\n",
    "        self.query = QueryNet(1, d_k, hidden_dims)\n",
    "        self.softmax = nn.Softmax(dim=1)\n",
    "        self.d_k = d_k\n",
    "        \n",
    "        \n",
    "    def forward(self,V):\n",
    "        # generate positional encodings\n",
    "        positional_encodings = get_positional_encoding(V.shape[0])\n",
    "#         print(positional_encodings)\n",
    "        # compute query and key matrices\n",
    "        qMat = self.query(positional_encodings)\n",
    "        kMat = self.query(positional_encodings)\n",
    "        \n",
    "        # compute attention matrix\n",
    "        attn = self.softmax(qMat@(kMat.T)/self.d_k)\n",
    "              \n",
    "        # produce output sequence\n",
    "        outSeq = attn@V\n",
    "        return outSeq, attn\n",
    "    \n",
    "reverserAttn = ReverserAttn(100, 100)"
   ]
  },
  {
   "cell_type": "code",
   "execution_count": 49,
   "id": "645d75b0",
   "metadata": {},
   "outputs": [
    {
     "name": "stdout",
     "output_type": "stream",
     "text": [
      "Iteration: 0, Loss: 23.85\n",
      "Iteration: 50, Loss: 21.09\n",
      "Iteration: 100, Loss: 20.11\n",
      "Iteration: 150, Loss: 20.84\n",
      "Iteration: 200, Loss: 22.74\n",
      "Iteration: 250, Loss: 23.72\n",
      "Iteration: 300, Loss: 22.38\n",
      "Iteration: 350, Loss: 23.30\n",
      "Iteration: 400, Loss: 17.84\n",
      "Iteration: 450, Loss: 20.79\n",
      "Iteration: 500, Loss: 21.59\n",
      "Iteration: 550, Loss: 20.75\n",
      "Iteration: 600, Loss: 22.54\n",
      "Iteration: 650, Loss: 19.88\n",
      "Iteration: 700, Loss: 18.43\n",
      "Iteration: 750, Loss: 21.56\n",
      "Iteration: 800, Loss: 22.29\n",
      "Iteration: 850, Loss: 18.73\n",
      "Iteration: 900, Loss: 15.10\n",
      "Iteration: 950, Loss: 18.43\n"
     ]
    }
   ],
   "source": [
    "# Training\n",
    "\n",
    "optimizer = torch.optim.Adam(reverserAttn.parameters(),lr=1e-2)\n",
    "batch_size = 25\n",
    "n_epochs = 1000\n",
    "\n",
    "for i in range(n_epochs):\n",
    "    optimizer.zero_grad()\n",
    "    loss = 0.0\n",
    "    for j in range(batch_size):\n",
    "        d_in = np.random.randint(20,30)\n",
    "        v,v_reverse_attn = generator(d_in)\n",
    "\n",
    "        v_reverse_predicted,_ = reverserAttn(v)\n",
    "        loss += (((v_reverse_predicted - v_reverse_attn )**2).mean())\n",
    "        \n",
    "    loss.backward()\n",
    "    optimizer.step()\n",
    "    if i%50==0:\n",
    "        print(f\"Iteration: {i}, Loss: {loss.item():.02f}\")\n"
   ]
  },
  {
   "cell_type": "code",
   "execution_count": 50,
   "id": "bd4e518f",
   "metadata": {},
   "outputs": [
    {
     "data": {
      "text/plain": [
       "[<matplotlib.lines.Line2D at 0x1255e95bbe0>]"
      ]
     },
     "execution_count": 50,
     "metadata": {},
     "output_type": "execute_result"
    },
    {
     "data": {
      "image/png": "[encoded data removed]",
      "text/plain": [
       "<Figure size 432x288 with 1 Axes>"
      ]
     },
     "metadata": {
      "needs_background": "light"
     },
     "output_type": "display_data"
    }
   ],
   "source": [
    "v,_ = generator(20)\n",
    "v_r, attention = reverserAttn(v)\n",
    "plt.plot(v,'k-')\n",
    "plt.plot(v_r.detach(),'r--')"
   ]
  },
  {
   "cell_type": "code",
   "execution_count": 51,
   "id": "e0534f1c",
   "metadata": {},
   "outputs": [
    {
     "data": {
      "text/plain": [
       "<matplotlib.image.AxesImage at 0x1255d5d5070>"
      ]
     },
     "execution_count": 51,
     "metadata": {},
     "output_type": "execute_result"
    },
    {
     "data": {
      "image/png": "[encoded data removed]",
      "text/plain": [
       "<Figure size 432x288 with 1 Axes>"
      ]
     },
     "metadata": {
      "needs_background": "light"
     },
     "output_type": "display_data"
    }
   ],
   "source": [
    "# plot the matrix\n",
    "\n",
    "plt.imshow(attention.detach().numpy())\n"
   ]
  },
  {
   "cell_type": "code",
   "execution_count": null,
   "id": "17635cdf",
   "metadata": {},
   "outputs": [],
   "source": []
  }
 ],
 "metadata": {
  "kernelspec": {
   "display_name": "Python 3 (ipykernel)",
   "language": "python",
   "name": "python3"
  },
  "language_info": {
   "codemirror_mode": {
    "name": "ipython",
    "version": 3
   },
   "file_extension": ".py",
   "mimetype": "text/x-python",
   "name": "python",
   "nbconvert_exporter": "python",
   "pygments_lexer": "ipython3",
   "version": "3.9.7"
  }
 },
 "nbformat": 4,
 "nbformat_minor": 5
}
